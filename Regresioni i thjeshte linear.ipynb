{
 "cells": [
  {
   "cell_type": "code",
   "execution_count": 23,
   "id": "25839653-8a04-4259-bddc-4843b70ccf9a",
   "metadata": {},
   "outputs": [
    {
     "data": {
      "image/png": "[encoded data removed]",
      "text/plain": [
       "<Figure size 432x288 with 1 Axes>"
      ]
     },
     "metadata": {
      "needs_background": "light"
     },
     "output_type": "display_data"
    },
    {
     "name": "stdout",
     "output_type": "stream",
     "text": [
      "98.999755859375\n"
     ]
    }
   ],
   "source": [
    "import pandas as pd\n",
    "import numpy as np\n",
    "import matplotlib.pyplot as plt\n",
    "import seaborn as sns\n",
    "import time\n",
    "%matplotlib inline\n",
    "\n",
    "startTime = time.time()*1000;\n",
    "\n",
    "from sklearn.datasets import load_boston\n",
    "housing_data = load_boston()\n",
    "\n",
    "# Let's check description of the dataset\n",
    "\n",
    "boston = pd.DataFrame(housing_data.data)\n",
    "#Assigning feature-names to colums of data frame\n",
    "boston.columns = housing_data.feature_names\n",
    "\n",
    "#Adding the target column Price to the data frame\n",
    "boston['Price'] = housing_data.target\n",
    "\n",
    "\n",
    "# Descriptive or Summary Statistic of the numeric columns\n",
    "\n",
    "# Correlation between Different features\n",
    "\n",
    "# Distributing of Price Column\n",
    "\n",
    "# Creating Predictor variable 'X' and Target Variable 'y'\n",
    "\n",
    "# X contains all the features except for the target value Price\n",
    "X = boston.drop('Price', axis = 1)\n",
    "X = X.drop('CRIM',axis=1)\n",
    "X = X.drop('ZN',axis=1)\n",
    "X = X.drop('INDUS',axis=1)\n",
    "X = X.drop('CHAS',axis=1)\n",
    "X = X.drop('NOX',axis=1)\n",
    "X = X.drop('AGE',axis=1)\n",
    "X = X.drop('DIS',axis=1)\n",
    "X = X.drop('RAD',axis=1)\n",
    "X = X.drop('TAX',axis=1)\n",
    "X = X.drop('PTRATIO',axis=1)\n",
    "X = X.drop('B',axis=1)\n",
    "X = X.drop('LSTAT',axis=1)\n",
    "y = boston['Price']\n",
    "\n",
    "from sklearn.model_selection import train_test_split\n",
    "\n",
    "X_train, X_test, y_train, y_test = train_test_split(X,y, test_size=0.3, random_state=0)\n",
    "\n",
    "# X_train contains 70% of total dataset\n",
    "\n",
    "# X_test contains 30% of total dataset\n",
    "\n",
    "\n",
    "from sklearn.linear_model import LinearRegression\n",
    "\n",
    "lr = LinearRegression()\n",
    "\n",
    "#Train/fit the model to training data\n",
    "lr.fit(X_train,y_train)\n",
    "\n",
    "# print the intercept\n",
    "\n",
    "#Coefficients\n",
    "coeff_df = pd.DataFrame(lr.coef_,X.columns,columns=['Coefficient'])\n",
    "coeff_df\n",
    "\n",
    "pred = lr.predict(X_test)\n",
    "\n",
    "plt.scatter(y_test, pred, c = 'green')\n",
    "plt.xlabel(\"Price: in $1000's\")\n",
    "plt.ylabel(\"Predicted value\")\n",
    "plt.title(\"True value vs predicted value : Linear Regression\")\n",
    "plt.show()\n",
    "\n",
    "endTime = time.time()*1000;\n",
    "\n",
    "print(endTime-startTime)"
   ]
  },
  {
   "cell_type": "code",
   "execution_count": 26,
   "id": "a21389ad-0a7f-4388-9d00-547b62583e42",
   "metadata": {},
   "outputs": [
    {
     "name": "stdout",
     "output_type": "stream",
     "text": [
      "22.6\n",
      "50.0\n",
      "23.0\n",
      "8.3\n",
      "21.2\n",
      "19.9\n",
      "20.6\n",
      "18.7\n"
     ]
    }
   ],
   "source": [
    "for i in range(8):\n",
    "    print(y_test.array[i])"
   ]
  },
  {
   "cell_type": "code",
   "execution_count": null,
   "id": "6c7b42d2-2574-4f3a-a659-e721b01c111f",
   "metadata": {},
   "outputs": [],
   "source": []
  }
 ],
 "metadata": {
  "kernelspec": {
   "display_name": "Python 3 (ipykernel)",
   "language": "python",
   "name": "python3"
  },
  "language_info": {
   "codemirror_mode": {
    "name": "ipython",
    "version": 3
   },
   "file_extension": ".py",
   "mimetype": "text/x-python",
   "name": "python",
   "nbconvert_exporter": "python",
   "pygments_lexer": "ipython3",
   "version": "3.9.7"
  }
 },
 "nbformat": 4,
 "nbformat_minor": 5
}
